{
 "cells": [
  {
   "cell_type": "code",
   "execution_count": 1,
   "metadata": {},
   "outputs": [
    {
     "name": "stdout",
     "output_type": "stream",
     "text": [
      "Full Translation:\n",
      " Recovery Agent (RA): Hello Mr. Kumar, I'm talking to X Y Z Finance. I had to talk about your loan.\n",
      "Borrower: Yes, speak. What's the matter?\n",
      "RA: Sir, your last month's EMI hasn' t arrived yet. Is there a problem?\n",
      "B: Yeah, I'm having a little trouble. My job' s gone and I'm looking for a new job.\n",
      "RA: Oh, that's bad. But sir, you have to understand that it' s very important to pay the loan on time.\n",
      "B: I understand, but I don 't have the money yet. Can I have some time?\n",
      "RA: We understand your situation. Can you make some payments by next week?\n",
      "B: I 'll try, but I can' t give the full EMI. Will half the payment go?\n",
      "RA: Okay, make half the payment by next week. What's your plan for the rest?\n",
      "B: I hope to get a new job by next month. Then I 'll pay the rest.\n",
      "RA: All right. So we 'll do that - you deposit half of the EMI up to the next week, and pay the rest up to the 15th of next month. Do you accept that?\n",
      "B: Yeah, it 'll be fine. I' ll do my best to follow this plan.\n",
      "RA: Very good. I'm sending you an SMS with payment details. Please follow this and pay on time.\n",
      "B: Well, thank you for understanding.\n",
      "RA: Welcome. If you have any other questions, please let me know. Bye.\n",
      "B: By the way.\n"
     ]
    }
   ],
   "source": [
    "from transformers import MBartForConditionalGeneration, MBart50TokenizerFast\n",
    "\n",
    "#using the mbart translation model from facebook, as at some point the conversation would have to be translated to english to summarize it.\n",
    "\n",
    "model_name = \"facebook/mbart-large-50-many-to-many-mmt\"\n",
    "model = MBartForConditionalGeneration.from_pretrained(model_name)\n",
    "tokenizer = MBart50TokenizerFast.from_pretrained(model_name)\n",
    "\n",
    "conversation_hindi = \"\"\"\n",
    "Recovery Agent (RA): नमस्ते श्री कुमार, मैं एक्स वाई जेड फाइनेंस से बोल रहा हूं। आपके लोन के बारे में बात करनी थी।\n",
    "Borrower (B): हां, बोलिए। क्या बात है?\n",
    "RA: सर, आपका पिछले महीने का EMI अभी तक नहीं आया है। क्या कोई समस्या है?\n",
    "B: हां, थोड़ी दिक्कत है। मेरी नौकरी चली गई है और मैं नया काम ढूंढ रहा हूं।\n",
    "RA: ओह, यह तो बुरा हुआ। लेकिन सर, आपको समझना होगा कि लोन का भुगतान समय पर करना बहुत जरूरी है।\n",
    "B: मैं समझता हूं, लेकिन अभी मेरे पास पैसे नहीं हैं। क्या कुछ समय मिल सकता है?\n",
    "RA: हम समझते हैं आपकी स्थिति। क्या आप अगले हफ्ते तक कुछ भुगतान कर सकते हैं?\n",
    "B: मैं कोशिश करूंगा, लेकिन पूरा EMI नहीं दे पाऊंगा। क्या आधा भुगतान चलेगा?\n",
    "RA: ठीक है, आधा भुगतान अगले हफ्ते तक कर दीजिए। बाकी का क्या प्लान है आपका?\n",
    "B: मुझे उम्मीद है कि अगले महीने तक मुझे नया काम मिल जाएगा। तब मैं बाकी बकाया चुका दूंगा।\n",
    "RA: ठीक है। तो हम ऐसा करते हैं- आप अगले हफ्ते तक आधा EMI जमा कर दीजिए, और अगले महीने के 15 तारीख तक बाकी का भुगतान कर दीजिए। क्या यह आपको स्वीकार है?\n",
    "B: हां, यह ठीक रहेगा। मैं इस प्लान का पालन करने की पूरी कोशिश करूंगा।\n",
    "RA: बहुत अच्छा। मैं आपको एक SMS भेज रहा हूं जिसमें भुगतान की डिटेल्स होंगी। कृपया इसका पालन करें और समय पर भुगतान करें।\n",
    "B: ठीक है, धन्यवाद आपके समझने के लिए।\n",
    "RA: आपका स्वागत है। अगर कोई और सवाल हो तो मुझे बताइएगा। अलविदा।\n",
    "B: अलविदा।\n",
    "\"\"\"\n",
    "\n",
    "#to avoid exceeding input token length, I have split the conversation into segments, each segment separated by a newline and after ignoring empty strings, the code translates each\n",
    "#line into Hindi and appends it to the full_translation variable\n",
    "\n",
    "conv_segments = conversation_hindi.split(\"\\n\")\n",
    "translated_conv_segments = []\n",
    "\n",
    "for segment in conv_segments:\n",
    "    if segment.strip(): \n",
    "        tokenizer.src_lang = \"hi_IN\"\n",
    "        encoded_hi = tokenizer(segment, return_tensors=\"pt\") #forms tokens in Hindi language\n",
    "        generated_tokens = model.generate(**encoded_hi, forced_bos_token_id=tokenizer.lang_code_to_id[\"en_XX\"])\n",
    "        translation = tokenizer.batch_decode(generated_tokens, skip_special_tokens=True)[0] #decodes the generated tokens for each segment\n",
    "        translated_conv_segments.append(translation)\n",
    "\n",
    "full_translation = \"\\n\".join(translated_conv_segments)\n",
    "\n",
    "print(\"Full Translation:\\n\", full_translation)\n",
    "\n"
   ]
  },
  {
   "cell_type": "code",
   "execution_count": 2,
   "metadata": {},
   "outputs": [
    {
     "data": {
      "text/plain": [
       "\"Recovery Agent (RA): Hello Mr. Kumar, I'm talking to X Y Z Finance. I had to talk about your loan.\\nBorrower: Yes, speak. What's the matter?\\nRA: Sir, your last month's EMI hasn' t arrived yet. Is there a problem?\\nB: Yeah, I'm having a little trouble. My job' s gone and I'm looking for a new job.\\nRA: Oh, that's bad. But sir, you have to understand that it' s very important to pay the loan on time.\\nB: I understand, but I don 't have the money yet. Can I have some time?\\nRA: We understand your situation. Can you make some payments by next week?\\nB: I 'll try, but I can' t give the full EMI. Will half the payment go?\\nRA: Okay, make half the payment by next week. What's your plan for the rest?\\nB: I hope to get a new job by next month. Then I 'll pay the rest.\\nRA: All right. So we 'll do that - you deposit half of the EMI up to the next week, and pay the rest up to the 15th of next month. Do you accept that?\\nB: Yeah, it 'll be fine. I' ll do my best to follow this plan.\\nRA: Very good. I'm sending you an SMS with payment details. Please follow this and pay on time.\\nB: Well, thank you for understanding.\\nRA: Welcome. If you have any other questions, please let me know. Bye.\\nB: By the way.\""
      ]
     },
     "execution_count": 2,
     "metadata": {},
     "output_type": "execute_result"
    }
   ],
   "source": [
    "full_translation"
   ]
  },
  {
   "cell_type": "code",
   "execution_count": 3,
   "metadata": {},
   "outputs": [
    {
     "name": "stderr",
     "output_type": "stream",
     "text": [
      "No model was supplied, defaulted to sshleifer/distilbart-cnn-12-6 and revision a4f8f3e (https://huggingface.co/sshleifer/distilbart-cnn-12-6).\n",
      "Using a pipeline without specifying a model name and revision in production is not recommended.\n"
     ]
    },
    {
     "name": "stdout",
     "output_type": "stream",
     "text": [
      "\n",
      "Summary:\n",
      "  Borrower's last month's EMI hasn't arrived yet, says X Y Z Finance . Recovery Agent (RA) asks borrower to make payments by next week . He says he hopes to get a new job by next month, then pay the rest of the money . The borrower says he is 'having a little trouble' because he can't give the full EMI . The debt collector says it is important to pay the loan on time and deposit half of the EMI up to the next week, and pay rest of next month .\n"
     ]
    }
   ],
   "source": [
    "from transformers import pipeline\n",
    "\n",
    "#using the default distilbart summarizer model as it is sufficiently good at summarizing english text.\n",
    "\n",
    "summarizer = pipeline(\"summarization\") #use default model\n",
    "summary = summarizer(full_translation, max_length=200, min_length=100, do_sample=False) \n",
    "print(\"\\nSummary:\\n\", summary[0]['summary_text'])\n"
   ]
  },
  {
   "cell_type": "code",
   "execution_count": 4,
   "metadata": {},
   "outputs": [
    {
     "name": "stderr",
     "output_type": "stream",
     "text": [
      "No model was supplied, defaulted to distilbert/distilbert-base-uncased-finetuned-sst-2-english and revision af0f99b (https://huggingface.co/distilbert/distilbert-base-uncased-finetuned-sst-2-english).\n",
      "Using a pipeline without specifying a model name and revision in production is not recommended.\n"
     ]
    },
    {
     "name": "stdout",
     "output_type": "stream",
     "text": [
      "Text: Recovery Agent (RA): Hello Mr. Kumar, I'm talking to X Y Z Finance. I had to talk about your loan.\n",
      "Sentiment: [{'label': 'NEGATIVE', 'score': 0.8278596997261047}]\n",
      "\n",
      "Text: Borrower: Yes, speak. What's the matter?\n",
      "Sentiment: [{'label': 'NEGATIVE', 'score': 0.9892157316207886}]\n",
      "\n",
      "Text: RA: Sir, your last month's EMI hasn' t arrived yet. Is there a problem?\n",
      "Sentiment: [{'label': 'NEGATIVE', 'score': 0.9990589022636414}]\n",
      "\n",
      "Text: B: Yeah, I'm having a little trouble. My job' s gone and I'm looking for a new job.\n",
      "Sentiment: [{'label': 'NEGATIVE', 'score': 0.9995023012161255}]\n",
      "\n",
      "Text: RA: Oh, that's bad. But sir, you have to understand that it' s very important to pay the loan on time.\n",
      "Sentiment: [{'label': 'NEGATIVE', 'score': 0.6003400683403015}]\n",
      "\n",
      "Text: B: I understand, but I don 't have the money yet. Can I have some time?\n",
      "Sentiment: [{'label': 'NEGATIVE', 'score': 0.9988842606544495}]\n",
      "\n",
      "Text: RA: We understand your situation. Can you make some payments by next week?\n",
      "Sentiment: [{'label': 'NEGATIVE', 'score': 0.9534904956817627}]\n",
      "\n",
      "Text: B: I 'll try, but I can' t give the full EMI. Will half the payment go?\n",
      "Sentiment: [{'label': 'NEGATIVE', 'score': 0.9981967806816101}]\n",
      "\n",
      "Text: RA: Okay, make half the payment by next week. What's your plan for the rest?\n",
      "Sentiment: [{'label': 'NEGATIVE', 'score': 0.9965583682060242}]\n",
      "\n",
      "Text: B: I hope to get a new job by next month. Then I 'll pay the rest.\n",
      "Sentiment: [{'label': 'NEGATIVE', 'score': 0.9934502840042114}]\n",
      "\n",
      "Text: RA: All right. So we 'll do that - you deposit half of the EMI up to the next week, and pay the rest up to the 15th of next month. Do you accept that?\n",
      "Sentiment: [{'label': 'POSITIVE', 'score': 0.9802226424217224}]\n",
      "\n",
      "Text: B: Yeah, it 'll be fine. I' ll do my best to follow this plan.\n",
      "Sentiment: [{'label': 'POSITIVE', 'score': 0.9990525841712952}]\n",
      "\n",
      "Text: RA: Very good. I'm sending you an SMS with payment details. Please follow this and pay on time.\n",
      "Sentiment: [{'label': 'POSITIVE', 'score': 0.9997013211250305}]\n",
      "\n",
      "Text: B: Well, thank you for understanding.\n",
      "Sentiment: [{'label': 'POSITIVE', 'score': 0.9998034834861755}]\n",
      "\n",
      "Text: RA: Welcome. If you have any other questions, please let me know. Bye.\n",
      "Sentiment: [{'label': 'POSITIVE', 'score': 0.9995200634002686}]\n",
      "\n",
      "Text: B: By the way.\n",
      "Sentiment: [{'label': 'POSITIVE', 'score': 0.9887120723724365}]\n",
      "\n"
     ]
    }
   ],
   "source": [
    "from transformers import pipeline\n",
    "\n",
    "sentiment_analyzer_instance = pipeline(\"sentiment-analysis\")\n",
    "#we stick to the default sentiment analysis model\n",
    "\n",
    "conversation_lines = full_translation.split(\"\\n\")\n",
    "#extracting line by line sentiment of the text\n",
    "conversation_sentiments = []\n",
    "\n",
    "for line in conversation_lines:\n",
    "    if line.strip():\n",
    "        sentiment = sentiment_analyzer_instance(line)\n",
    "        conversation_sentiments.append((line.strip(), sentiment))\n",
    "\n",
    "for line, sentiment in conversation_sentiments:\n",
    "    print(f\"Text: {line}\")\n",
    "    #printing sentiments line-by-line\n",
    "    print(f\"Sentiment: {sentiment}\\n\")\n"
   ]
  }
 ],
 "metadata": {
  "kernelspec": {
   "display_name": "Python 3",
   "language": "python",
   "name": "python3"
  },
  "language_info": {
   "codemirror_mode": {
    "name": "ipython",
    "version": 3
   },
   "file_extension": ".py",
   "mimetype": "text/x-python",
   "name": "python",
   "nbconvert_exporter": "python",
   "pygments_lexer": "ipython3",
   "version": "3.10.1"
  }
 },
 "nbformat": 4,
 "nbformat_minor": 2
}
